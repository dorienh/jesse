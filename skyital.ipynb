{
  "nbformat": 4,
  "nbformat_minor": 0,
  "metadata": {
    "accelerator": "GPU",
    "colab": {
      "name": "Herremans",
      "provenance": [],
      "collapsed_sections": [
        "hY-tNb9q-qbJ"
      ],
      "toc_visible": true,
      "machine_shape": "hm",
      "authorship_tag": "ABX9TyNb1uj4Gbu2DcQHAtcaHHKb",
      "include_colab_link": true
    },
    "kernelspec": {
      "display_name": "Python 3",
      "name": "python3"
    },
    "language_info": {
      "name": "python"
    }
  },
  "cells": [
    {
      "cell_type": "markdown",
      "metadata": {
        "id": "view-in-github",
        "colab_type": "text"
      },
      "source": [
        "<a href=\"https://colab.research.google.com/github/dorienh/jesse/blob/Secondary/skyital.ipynb\" target=\"_parent\"><img src=\"https://colab.research.google.com/assets/colab-badge.svg\" alt=\"Open In Colab\"/></a>"
      ]
    },
    {
      "cell_type": "markdown",
      "metadata": {
        "id": "S7nW0HM2UX4b"
      },
      "source": [
        "## prep and module loading"
      ]
    },
    {
      "cell_type": "code",
      "metadata": {
        "colab": {
          "base_uri": "https://localhost:8080/",
          "height": 1000
        },
        "id": "xV9k0duZpSdS",
        "outputId": "0521569b-a6bc-4fe5-c2aa-dc21b1951470"
      },
      "source": [
        "!pip install tsfresh\n",
        "!pip install scipy>=1.5 # need to restart runtime after installing this"
      ],
      "execution_count": null,
      "outputs": [
        {
          "output_type": "stream",
          "text": [
            "Collecting tsfresh\n",
            "\u001b[?25l  Downloading https://files.pythonhosted.org/packages/22/7f/53e845c3e19078d15e228db642ad06d5a91207a66115cb4f30a2eca28f17/tsfresh-0.18.0-py2.py3-none-any.whl (94kB)\n",
            "\r\u001b[K     |███▌                            | 10kB 21.4MB/s eta 0:00:01\r\u001b[K     |███████                         | 20kB 17.4MB/s eta 0:00:01\r\u001b[K     |██████████▍                     | 30kB 14.6MB/s eta 0:00:01\r\u001b[K     |█████████████▉                  | 40kB 13.8MB/s eta 0:00:01\r\u001b[K     |█████████████████▎              | 51kB 7.7MB/s eta 0:00:01\r\u001b[K     |████████████████████▊           | 61kB 7.4MB/s eta 0:00:01\r\u001b[K     |████████████████████████▏       | 71kB 8.4MB/s eta 0:00:01\r\u001b[K     |███████████████████████████▊    | 81kB 8.8MB/s eta 0:00:01\r\u001b[K     |███████████████████████████████▏| 92kB 9.1MB/s eta 0:00:01\r\u001b[K     |████████████████████████████████| 102kB 6.3MB/s \n",
            "\u001b[?25hRequirement already satisfied: numpy>=1.15.1 in /usr/local/lib/python3.7/dist-packages (from tsfresh) (1.19.5)\n",
            "Requirement already satisfied: requests>=2.9.1 in /usr/local/lib/python3.7/dist-packages (from tsfresh) (2.23.0)\n",
            "Requirement already satisfied: scipy>=1.2.0 in /usr/local/lib/python3.7/dist-packages (from tsfresh) (1.4.1)\n",
            "Requirement already satisfied: statsmodels>=0.9.0 in /usr/local/lib/python3.7/dist-packages (from tsfresh) (0.10.2)\n",
            "Requirement already satisfied: tqdm>=4.10.0 in /usr/local/lib/python3.7/dist-packages (from tsfresh) (4.41.1)\n",
            "Requirement already satisfied: pandas>=0.25.0 in /usr/local/lib/python3.7/dist-packages (from tsfresh) (1.1.5)\n",
            "Requirement already satisfied: scikit-learn>=0.22.0 in /usr/local/lib/python3.7/dist-packages (from tsfresh) (0.22.2.post1)\n",
            "Requirement already satisfied: dask[dataframe]>=2.9.0 in /usr/local/lib/python3.7/dist-packages (from tsfresh) (2.12.0)\n",
            "Requirement already satisfied: patsy>=0.4.1 in /usr/local/lib/python3.7/dist-packages (from tsfresh) (0.5.1)\n",
            "Collecting distributed>=2.11.0\n",
            "\u001b[?25l  Downloading https://files.pythonhosted.org/packages/31/fa/92163eefde93e445db7b4946daccfcf825b95fe63e347807c55544e2686c/distributed-2021.5.1-py3-none-any.whl (705kB)\n",
            "\u001b[K     |████████████████████████████████| 706kB 14.9MB/s \n",
            "\u001b[?25hCollecting matrixprofile>=1.1.10<2.0.0\n",
            "\u001b[?25l  Downloading https://files.pythonhosted.org/packages/b1/c3/43d282f0e5299f977b62e53e4dde22ddb14c90877af5b62af225fa783d8e/matrixprofile-1.1.10-cp37-cp37m-manylinux2010_x86_64.whl (1.1MB)\n",
            "\u001b[K     |████████████████████████████████| 1.1MB 56.6MB/s \n",
            "\u001b[?25hCollecting stumpy>=1.7.2\n",
            "\u001b[?25l  Downloading https://files.pythonhosted.org/packages/4c/da/8d372a1af518930ecb3ad9acc627115450149b613ba1b9b51b4d3721218e/stumpy-1.8.0-py3-none-any.whl (94kB)\n",
            "\u001b[K     |████████████████████████████████| 102kB 14.9MB/s \n",
            "\u001b[?25hRequirement already satisfied: urllib3!=1.25.0,!=1.25.1,<1.26,>=1.21.1 in /usr/local/lib/python3.7/dist-packages (from requests>=2.9.1->tsfresh) (1.24.3)\n",
            "Requirement already satisfied: certifi>=2017.4.17 in /usr/local/lib/python3.7/dist-packages (from requests>=2.9.1->tsfresh) (2020.12.5)\n",
            "Requirement already satisfied: idna<3,>=2.5 in /usr/local/lib/python3.7/dist-packages (from requests>=2.9.1->tsfresh) (2.10)\n",
            "Requirement already satisfied: chardet<4,>=3.0.2 in /usr/local/lib/python3.7/dist-packages (from requests>=2.9.1->tsfresh) (3.0.4)\n",
            "Requirement already satisfied: python-dateutil>=2.7.3 in /usr/local/lib/python3.7/dist-packages (from pandas>=0.25.0->tsfresh) (2.8.1)\n",
            "Requirement already satisfied: pytz>=2017.2 in /usr/local/lib/python3.7/dist-packages (from pandas>=0.25.0->tsfresh) (2018.9)\n",
            "Requirement already satisfied: joblib>=0.11 in /usr/local/lib/python3.7/dist-packages (from scikit-learn>=0.22.0->tsfresh) (1.0.1)\n",
            "Collecting fsspec>=0.6.0; extra == \"dataframe\"\n",
            "\u001b[?25l  Downloading https://files.pythonhosted.org/packages/bc/52/816d1a3a599176057bf29dfacb1f8fadb61d35fbd96cb1bab4aaa7df83c0/fsspec-2021.5.0-py3-none-any.whl (111kB)\n",
            "\u001b[K     |████████████████████████████████| 112kB 68.1MB/s \n",
            "\u001b[?25hRequirement already satisfied: toolz>=0.7.3; extra == \"dataframe\" in /usr/local/lib/python3.7/dist-packages (from dask[dataframe]>=2.9.0->tsfresh) (0.11.1)\n",
            "Collecting partd>=0.3.10; extra == \"dataframe\"\n",
            "  Downloading https://files.pythonhosted.org/packages/41/94/360258a68b55f47859d72b2d0b2b3cfe0ca4fbbcb81b78812bd00ae86b7c/partd-1.2.0-py3-none-any.whl\n",
            "Requirement already satisfied: six in /usr/local/lib/python3.7/dist-packages (from patsy>=0.4.1->tsfresh) (1.15.0)\n",
            "Requirement already satisfied: pyyaml in /usr/local/lib/python3.7/dist-packages (from distributed>=2.11.0->tsfresh) (3.13)\n",
            "Requirement already satisfied: tornado>=5; python_version < \"3.8\" in /usr/local/lib/python3.7/dist-packages (from distributed>=2.11.0->tsfresh) (5.1.1)\n",
            "Collecting cloudpickle>=1.5.0\n",
            "  Downloading https://files.pythonhosted.org/packages/e7/e3/898487e5dbeb612054cf2e0c188463acb358167fef749c53c8bb8918cea1/cloudpickle-1.6.0-py3-none-any.whl\n",
            "Requirement already satisfied: psutil>=5.0 in /usr/local/lib/python3.7/dist-packages (from distributed>=2.11.0->tsfresh) (5.4.8)\n",
            "Requirement already satisfied: click>=6.6 in /usr/local/lib/python3.7/dist-packages (from distributed>=2.11.0->tsfresh) (7.1.2)\n",
            "Requirement already satisfied: zict>=0.1.3 in /usr/local/lib/python3.7/dist-packages (from distributed>=2.11.0->tsfresh) (2.0.0)\n",
            "Requirement already satisfied: setuptools in /usr/local/lib/python3.7/dist-packages (from distributed>=2.11.0->tsfresh) (56.1.0)\n",
            "Requirement already satisfied: tblib>=1.6.0 in /usr/local/lib/python3.7/dist-packages (from distributed>=2.11.0->tsfresh) (1.7.0)\n",
            "Requirement already satisfied: msgpack>=0.6.0 in /usr/local/lib/python3.7/dist-packages (from distributed>=2.11.0->tsfresh) (1.0.2)\n",
            "Requirement already satisfied: sortedcontainers!=2.0.0,!=2.0.1 in /usr/local/lib/python3.7/dist-packages (from distributed>=2.11.0->tsfresh) (2.4.0)\n",
            "Requirement already satisfied: matplotlib>=3.0.3 in /usr/local/lib/python3.7/dist-packages (from matrixprofile>=1.1.10<2.0.0->tsfresh) (3.2.2)\n",
            "Collecting protobuf==3.11.2\n",
            "\u001b[?25l  Downloading https://files.pythonhosted.org/packages/4a/14/f5c294f1e36a031f165128c25feba93b3116f15a74398d0b2747ed75744f/protobuf-3.11.2-cp37-cp37m-manylinux1_x86_64.whl (1.3MB)\n",
            "\u001b[K     |████████████████████████████████| 1.3MB 56.0MB/s \n",
            "\u001b[?25hRequirement already satisfied: numba>=0.48 in /usr/local/lib/python3.7/dist-packages (from stumpy>=1.7.2->tsfresh) (0.51.2)\n",
            "Collecting locket\n",
            "  Downloading https://files.pythonhosted.org/packages/50/b8/e789e45b9b9c2db75e9d9e6ceb022c8d1d7e49b2c085ce8c05600f90a96b/locket-0.2.1-py2.py3-none-any.whl\n",
            "Requirement already satisfied: heapdict in /usr/local/lib/python3.7/dist-packages (from zict>=0.1.3->distributed>=2.11.0->tsfresh) (1.0.1)\n",
            "Requirement already satisfied: kiwisolver>=1.0.1 in /usr/local/lib/python3.7/dist-packages (from matplotlib>=3.0.3->matrixprofile>=1.1.10<2.0.0->tsfresh) (1.3.1)\n",
            "Requirement already satisfied: pyparsing!=2.0.4,!=2.1.2,!=2.1.6,>=2.0.1 in /usr/local/lib/python3.7/dist-packages (from matplotlib>=3.0.3->matrixprofile>=1.1.10<2.0.0->tsfresh) (2.4.7)\n",
            "Requirement already satisfied: cycler>=0.10 in /usr/local/lib/python3.7/dist-packages (from matplotlib>=3.0.3->matrixprofile>=1.1.10<2.0.0->tsfresh) (0.10.0)\n",
            "Requirement already satisfied: llvmlite<0.35,>=0.34.0.dev0 in /usr/local/lib/python3.7/dist-packages (from numba>=0.48->stumpy>=1.7.2->tsfresh) (0.34.0)\n",
            "\u001b[31mERROR: googleapis-common-protos 1.53.0 has requirement protobuf>=3.12.0, but you'll have protobuf 3.11.2 which is incompatible.\u001b[0m\n",
            "\u001b[31mERROR: google-api-core 1.26.3 has requirement protobuf>=3.12.0, but you'll have protobuf 3.11.2 which is incompatible.\u001b[0m\n",
            "\u001b[31mERROR: distributed 2021.5.1 has requirement dask==2021.05.1, but you'll have dask 2.12.0 which is incompatible.\u001b[0m\n",
            "\u001b[31mERROR: stumpy 1.8.0 has requirement scipy>=1.5, but you'll have scipy 1.4.1 which is incompatible.\u001b[0m\n",
            "Installing collected packages: cloudpickle, distributed, protobuf, matrixprofile, stumpy, tsfresh, fsspec, locket, partd\n",
            "  Found existing installation: cloudpickle 1.3.0\n",
            "    Uninstalling cloudpickle-1.3.0:\n",
            "      Successfully uninstalled cloudpickle-1.3.0\n",
            "  Found existing installation: distributed 1.25.3\n",
            "    Uninstalling distributed-1.25.3:\n",
            "      Successfully uninstalled distributed-1.25.3\n",
            "  Found existing installation: protobuf 3.12.4\n",
            "    Uninstalling protobuf-3.12.4:\n",
            "      Successfully uninstalled protobuf-3.12.4\n",
            "Successfully installed cloudpickle-1.6.0 distributed-2021.5.1 fsspec-2021.5.0 locket-0.2.1 matrixprofile-1.1.10 partd-1.2.0 protobuf-3.11.2 stumpy-1.8.0 tsfresh-0.18.0\n"
          ],
          "name": "stdout"
        },
        {
          "output_type": "display_data",
          "data": {
            "application/vnd.colab-display-data+json": {
              "pip_warning": {
                "packages": [
                  "google"
                ]
              }
            }
          },
          "metadata": {
            "tags": []
          }
        }
      ]
    },
    {
      "cell_type": "markdown",
      "metadata": {
        "id": "elDSD0My-lMm"
      },
      "source": [
        "Restart runtime after running the above. \n"
      ]
    },
    {
      "cell_type": "code",
      "metadata": {
        "colab": {
          "base_uri": "https://localhost:8080/"
        },
        "id": "dahw78Qvp8IE",
        "outputId": "a9875fca-abef-41b2-a5bf-f0ff625b9204"
      },
      "source": [
        "from google.colab import drive \n",
        "drive.mount('/content/drive')\n",
        "\n",
        "%cd /content/drive/My\\ Drive/herremans_data/src/"
      ],
      "execution_count": null,
      "outputs": [
        {
          "output_type": "stream",
          "text": [
            "Mounted at /content/drive\n",
            "/content/drive/My Drive/herremans_data/src\n"
          ],
          "name": "stdout"
        }
      ]
    },
    {
      "cell_type": "code",
      "metadata": {
        "id": "r5Zlpcc6-cBt"
      },
      "source": [
        "# import os\n",
        "# os.environ['CUDA_LAUNCH_BLOCKING'] = \"1\"\n",
        "from datapreprocess import Preprocess\n",
        "from wavenetmodel import WaveNet_n_to_1\n",
        "from loss import FocalLoss\n",
        "from utils import custom_print\n",
        "import torch"
      ],
      "execution_count": null,
      "outputs": []
    },
    {
      "cell_type": "markdown",
      "metadata": {
        "id": "MzOzoHKrwnTv"
      },
      "source": [
        "## Preprocess and save\n"
      ]
    },
    {
      "cell_type": "code",
      "metadata": {
        "colab": {
          "base_uri": "https://localhost:8080/"
        },
        "id": "fiekKCHYpVt4",
        "outputId": "b74c701b-afec-41d9-c5da-cf12a4a7350f"
      },
      "source": [
        "y_cols = [\n",
        "    \"Top_p15_a4\",\n",
        "    \"Btm_p15_a4\",\n",
        "    \"Buy_p15_a4\",\n",
        "    \"Sell_p15_a4\",\n",
        "    \"Top_p40_a1\",\n",
        "    \"Btm_p40_a1\",\n",
        "    \"Buy_p40_a1\",\n",
        "    \"Sell_p40_a1\",\n",
        "    \"ODR\",\n",
        "    \"Top\",\n",
        "    \"Btm\",\n",
        "    \"Trend\",\n",
        "    \"WM\",\n",
        "    \"last_pivot\",\n",
        "]\n",
        "\n",
        "cols_to_pred = [\"Buy_p40_a1\"]\n",
        "\n",
        "datadir = \"../dataset/daily/\"\n",
        "\n",
        "process = Preprocess(datadir, y_cols, cols_to_pred, last_x_days=40)\n",
        "\n",
        "# NOTE Uncomment BELOW and see how this work\n",
        "# X_train,y_train,X_test,y_test,X_val,y_val = process.process()\n",
        "# print(f\"X_train Shape {X_train.shape}\")\n",
        "# print(f\"X_test Shape {X_test.shape}\")\n",
        "# print(f\"X_val Shape {X_val.shape}\")\n",
        "# print(f\"y_train Shape {y_train.shape}\")\n",
        "# print(f\"y_val Shape {y_val.shape}\")\n",
        "# print(f\"y_test Shape {y_test.shape}\")\n",
        "# X_train,y_train,X_test,y_test,X_val,y_val = process.prepare_tensors()\n",
        "# print(f\"X_train Shape {X_train.shape}\")\n",
        "# print(f\"X_test Shape {X_test.shape}\")\n",
        "# print(f\"X_val Shape {X_val.shape}\")\n",
        "# print(f\"y_train Shape {y_train.shape}\")\n",
        "# print(f\"y_val Shape {y_val.shape}\")\n",
        "# print(f\"y_test Shape {y_test.shape}\")\n",
        "\n",
        "dataloaders = process.prepare_data_loaders(batch_size=600)\n",
        "\n"
      ],
      "execution_count": null,
      "outputs": [
        {
          "output_type": "stream",
          "text": [
            "\u001b[1m\u001b[94mCollecting Files\u001b[0m\u001b[0m\n",
            "\u001b[1m\u001b[94mFilling Nan Values ✓\u001b[0m\u001b[0m\n",
            "\u001b[1m\u001b[94mImputing Nan Values ✓\u001b[0m\u001b[0m\n",
            "\u001b[1m\u001b[94mSplit Dataset into Train,Val,Test Set ✓\u001b[0m\u001b[0m\n",
            "\u001b[1m\u001b[94mMin Max Normalisation on Dataset ✓\u001b[0m\u001b[0m\n",
            "X_train Shape (3010, 40, 192), Y_train Shape (3010, 1)\n",
            "X_test Shape (862, 40, 192), Y_test Shape(862, 1)\n",
            "torch.Size([3010, 2]) torch.Size([431, 2])\n"
          ],
          "name": "stdout"
        }
      ]
    },
    {
      "cell_type": "markdown",
      "metadata": {
        "id": "hY-tNb9q-qbJ"
      },
      "source": [
        "## Saving let's colab run out of memory, only run if you have a pro account. "
      ]
    },
    {
      "cell_type": "code",
      "metadata": {
        "id": "3loH7w5PVtpa"
      },
      "source": [
        "import pickle\n",
        "\n",
        "with open('dataloaders.pickle', 'wb') as handle:\n",
        "    pickle.dump(dataloaders, handle, protocol=pickle.HIGHEST_PROTOCOL)\n",
        "    handle.close()\n"
      ],
      "execution_count": null,
      "outputs": []
    },
    {
      "cell_type": "code",
      "metadata": {
        "colab": {
          "base_uri": "https://localhost:8080/",
          "height": 215
        },
        "id": "LXgRsyokV3m6",
        "outputId": "9a5c0cb3-7596-4dff-eda9-3450eeb63c7e"
      },
      "source": [
        "with open('dataloaders.pickle', 'rb') as handle:\n",
        "    dataloaders = pickle.load(handle)"
      ],
      "execution_count": null,
      "outputs": [
        {
          "output_type": "error",
          "ename": "EOFError",
          "evalue": "ignored",
          "traceback": [
            "\u001b[0;31m---------------------------------------------------------------------------\u001b[0m",
            "\u001b[0;31mEOFError\u001b[0m                                  Traceback (most recent call last)",
            "\u001b[0;32m<ipython-input-2-802e193b4c7d>\u001b[0m in \u001b[0;36m<module>\u001b[0;34m()\u001b[0m\n\u001b[1;32m      1\u001b[0m \u001b[0;32mwith\u001b[0m \u001b[0mopen\u001b[0m\u001b[0;34m(\u001b[0m\u001b[0;34m'dataloaders.pickle'\u001b[0m\u001b[0;34m,\u001b[0m \u001b[0;34m'rb'\u001b[0m\u001b[0;34m)\u001b[0m \u001b[0;32mas\u001b[0m \u001b[0mhandle\u001b[0m\u001b[0;34m:\u001b[0m\u001b[0;34m\u001b[0m\u001b[0;34m\u001b[0m\u001b[0m\n\u001b[0;32m----> 2\u001b[0;31m     \u001b[0mdataloaders\u001b[0m \u001b[0;34m=\u001b[0m \u001b[0mpickle\u001b[0m\u001b[0;34m.\u001b[0m\u001b[0mload\u001b[0m\u001b[0;34m(\u001b[0m\u001b[0mhandle\u001b[0m\u001b[0;34m)\u001b[0m\u001b[0;34m\u001b[0m\u001b[0;34m\u001b[0m\u001b[0m\n\u001b[0m",
            "\u001b[0;31mEOFError\u001b[0m: Ran out of input"
          ]
        }
      ]
    },
    {
      "cell_type": "markdown",
      "metadata": {
        "id": "tng8NjCGvu2L"
      },
      "source": [
        "## Define model"
      ]
    },
    {
      "cell_type": "code",
      "metadata": {
        "id": "q39yNai2vsQp"
      },
      "source": [
        "# import os\n",
        "# os.environ['CUDA_LAUNCH_BLOCKING'] = \"1\"\n",
        "from wavenetmodel import WaveNet_n_to_1\n",
        "from lstmmodel import LstmModel_n_to_1\n",
        "# from loss import FocalLoss\n",
        "\n",
        "num_epochs = 20  # 100 epochs\n",
        "learning_rate = 0.003  # 0.001 lr\n",
        "\n",
        "hidden_size = 8  # number of features in hidden state\n",
        "num_layers = 3  # number of stacked lstm layers\n",
        "num_classes = 2  # number of output classes\n",
        "\n",
        "device = torch.device(\"cuda:0\")  #changed from: cpu\n",
        "\n",
        "\n",
        "model_type = \"Wavenet\" # \"Lstm\" or \"Wavenet\"\n",
        "\n",
        "if model_type == \"Wavenet\":\n",
        "    model = WaveNet_n_to_1(\n",
        "        num_classes=num_classes,\n",
        "        input_size=process.inputshape[2],\n",
        "        seq_length=process.inputshape[1],\n",
        "        device=device,\n",
        "    )\n",
        "    checkpointdir = \"./wavenet_model.pth\"\n",
        "elif model_type == 'Lstm':\n",
        "    model = LstmModel_n_to_1(\n",
        "        num_classes=num_classes,\n",
        "        input_size=process.inputshape[2],\n",
        "        hidden_size=hidden_size,\n",
        "        num_layers=num_layers,\n",
        "        seq_length=process.inputshape[1],\n",
        "        device=device,\n",
        "    )\n",
        "    checkpointdir = \"./lstm_model.pth\"\n",
        "\n",
        "# criterion = FocalLoss(gamma=2, alpha=0.25)    #this causes and error, so trying with BCELoss() but that gives an error too about dimensions. \n",
        "criterion = torch.nn.BCELoss()\n",
        "optimizer = torch.optim.Adam(model.model.parameters(), lr=learning_rate)\n",
        "\n"
      ],
      "execution_count": null,
      "outputs": []
    },
    {
      "cell_type": "code",
      "metadata": {
        "colab": {
          "base_uri": "https://localhost:8080/"
        },
        "id": "2G5MQf2_fZmY",
        "outputId": "27cb2217-6c04-4311-dbf3-fd806f78178b"
      },
      "source": [
        "custom_print(f\"Training With {process.inputshape[2]} Features\", header=True)\n",
        "model.train(\n",
        "    epochs=num_epochs,\n",
        "    dataloader=dataloaders,\n",
        "    optimizer=optimizer,\n",
        "    criterion=criterion,\n",
        "    checkpointdir=checkpointdir,\n",
        ")"
      ],
      "execution_count": null,
      "outputs": [
        {
          "output_type": "stream",
          "text": [
            "\r  0%|          | 0/6 [00:00<?, ?it/s]"
          ],
          "name": "stderr"
        },
        {
          "output_type": "stream",
          "text": [
            "\u001b[95mTraining With 192 Features\u001b[0m\n"
          ],
          "name": "stdout"
        },
        {
          "output_type": "stream",
          "text": [
            "100%|██████████| 6/6 [00:06<00:00,  1.14s/it]\n",
            "100%|██████████| 1/1 [00:00<00:00, 15.09it/s]\n",
            "  0%|          | 0/6 [00:00<?, ?it/s]"
          ],
          "name": "stderr"
        },
        {
          "output_type": "stream",
          "text": [
            "\u001b[4m\u001b[93mEpoch: 1 \tTraining Loss: 0.029890 \tValidation Loss: 0.081300\u001b[0m\u001b[0m\n",
            "validation loss decreased from inf to 0.081300. Model is being saved to ./wavenet_model.pth. True\n"
          ],
          "name": "stdout"
        },
        {
          "output_type": "stream",
          "text": [
            "100%|██████████| 6/6 [00:06<00:00,  1.13s/it]\n",
            "100%|██████████| 1/1 [00:00<00:00, 16.56it/s]\n",
            "  0%|          | 0/6 [00:00<?, ?it/s]"
          ],
          "name": "stderr"
        },
        {
          "output_type": "stream",
          "text": [
            "\u001b[4m\u001b[93mEpoch: 2 \tTraining Loss: 0.031558 \tValidation Loss: 0.091289\u001b[0m\u001b[0m\n"
          ],
          "name": "stdout"
        },
        {
          "output_type": "stream",
          "text": [
            "100%|██████████| 6/6 [00:06<00:00,  1.13s/it]\n",
            "100%|██████████| 1/1 [00:00<00:00, 16.52it/s]\n",
            "  0%|          | 0/6 [00:00<?, ?it/s]"
          ],
          "name": "stderr"
        },
        {
          "output_type": "stream",
          "text": [
            "\u001b[4m\u001b[93mEpoch: 3 \tTraining Loss: 0.030499 \tValidation Loss: 0.097050\u001b[0m\u001b[0m\n"
          ],
          "name": "stdout"
        },
        {
          "output_type": "stream",
          "text": [
            "100%|██████████| 6/6 [00:06<00:00,  1.13s/it]\n",
            "100%|██████████| 1/1 [00:00<00:00, 16.19it/s]\n",
            "  0%|          | 0/6 [00:00<?, ?it/s]"
          ],
          "name": "stderr"
        },
        {
          "output_type": "stream",
          "text": [
            "\u001b[4m\u001b[93mEpoch: 4 \tTraining Loss: 0.029342 \tValidation Loss: 0.817604\u001b[0m\u001b[0m\n"
          ],
          "name": "stdout"
        },
        {
          "output_type": "stream",
          "text": [
            "100%|██████████| 6/6 [00:06<00:00,  1.13s/it]\n",
            "100%|██████████| 1/1 [00:00<00:00, 16.44it/s]\n",
            "  0%|          | 0/6 [00:00<?, ?it/s]"
          ],
          "name": "stderr"
        },
        {
          "output_type": "stream",
          "text": [
            "\u001b[4m\u001b[93mEpoch: 5 \tTraining Loss: 0.032414 \tValidation Loss: 0.083218\u001b[0m\u001b[0m\n"
          ],
          "name": "stdout"
        },
        {
          "output_type": "stream",
          "text": [
            "100%|██████████| 6/6 [00:06<00:00,  1.13s/it]\n",
            "100%|██████████| 1/1 [00:00<00:00, 16.44it/s]\n",
            "  0%|          | 0/6 [00:00<?, ?it/s]"
          ],
          "name": "stderr"
        },
        {
          "output_type": "stream",
          "text": [
            "\u001b[4m\u001b[93mEpoch: 6 \tTraining Loss: 0.030169 \tValidation Loss: 0.088362\u001b[0m\u001b[0m\n"
          ],
          "name": "stdout"
        },
        {
          "output_type": "stream",
          "text": [
            "100%|██████████| 6/6 [00:06<00:00,  1.13s/it]\n",
            "100%|██████████| 1/1 [00:00<00:00, 16.59it/s]\n",
            "  0%|          | 0/6 [00:00<?, ?it/s]"
          ],
          "name": "stderr"
        },
        {
          "output_type": "stream",
          "text": [
            "\u001b[4m\u001b[93mEpoch: 7 \tTraining Loss: 0.029636 \tValidation Loss: 0.101833\u001b[0m\u001b[0m\n"
          ],
          "name": "stdout"
        },
        {
          "output_type": "stream",
          "text": [
            "100%|██████████| 6/6 [00:06<00:00,  1.13s/it]\n",
            "100%|██████████| 1/1 [00:00<00:00, 16.50it/s]\n",
            "  0%|          | 0/6 [00:00<?, ?it/s]"
          ],
          "name": "stderr"
        },
        {
          "output_type": "stream",
          "text": [
            "\u001b[4m\u001b[93mEpoch: 8 \tTraining Loss: 0.029111 \tValidation Loss: 0.839699\u001b[0m\u001b[0m\n"
          ],
          "name": "stdout"
        },
        {
          "output_type": "stream",
          "text": [
            "100%|██████████| 6/6 [00:06<00:00,  1.13s/it]\n",
            "100%|██████████| 1/1 [00:00<00:00, 16.56it/s]\n",
            "  0%|          | 0/6 [00:00<?, ?it/s]"
          ],
          "name": "stderr"
        },
        {
          "output_type": "stream",
          "text": [
            "\u001b[4m\u001b[93mEpoch: 9 \tTraining Loss: 0.026415 \tValidation Loss: 0.107935\u001b[0m\u001b[0m\n"
          ],
          "name": "stdout"
        },
        {
          "output_type": "stream",
          "text": [
            "100%|██████████| 6/6 [00:06<00:00,  1.13s/it]\n",
            "100%|██████████| 1/1 [00:00<00:00, 16.70it/s]\n",
            "  0%|          | 0/6 [00:00<?, ?it/s]"
          ],
          "name": "stderr"
        },
        {
          "output_type": "stream",
          "text": [
            "\u001b[4m\u001b[93mEpoch: 10 \tTraining Loss: 0.025027 \tValidation Loss: 0.078342\u001b[0m\u001b[0m\n",
            "validation loss decreased from 0.081300 to 0.078342. Model is being saved to ./wavenet_model.pth. True\n"
          ],
          "name": "stdout"
        },
        {
          "output_type": "stream",
          "text": [
            "100%|██████████| 6/6 [00:06<00:00,  1.13s/it]\n",
            "100%|██████████| 1/1 [00:00<00:00, 16.67it/s]\n",
            "  0%|          | 0/6 [00:00<?, ?it/s]"
          ],
          "name": "stderr"
        },
        {
          "output_type": "stream",
          "text": [
            "\u001b[4m\u001b[93mEpoch: 11 \tTraining Loss: 0.024932 \tValidation Loss: 0.089005\u001b[0m\u001b[0m\n"
          ],
          "name": "stdout"
        },
        {
          "output_type": "stream",
          "text": [
            "100%|██████████| 6/6 [00:06<00:00,  1.13s/it]\n",
            "100%|██████████| 1/1 [00:00<00:00, 16.23it/s]\n",
            "  0%|          | 0/6 [00:00<?, ?it/s]"
          ],
          "name": "stderr"
        },
        {
          "output_type": "stream",
          "text": [
            "\u001b[4m\u001b[93mEpoch: 12 \tTraining Loss: 0.025257 \tValidation Loss: 0.093445\u001b[0m\u001b[0m\n"
          ],
          "name": "stdout"
        },
        {
          "output_type": "stream",
          "text": [
            "100%|██████████| 6/6 [00:06<00:00,  1.13s/it]\n",
            "100%|██████████| 1/1 [00:00<00:00, 16.54it/s]\n",
            "  0%|          | 0/6 [00:00<?, ?it/s]"
          ],
          "name": "stderr"
        },
        {
          "output_type": "stream",
          "text": [
            "\u001b[4m\u001b[93mEpoch: 13 \tTraining Loss: 0.022459 \tValidation Loss: 0.130230\u001b[0m\u001b[0m\n"
          ],
          "name": "stdout"
        },
        {
          "output_type": "stream",
          "text": [
            "100%|██████████| 6/6 [00:06<00:00,  1.13s/it]\n",
            "100%|██████████| 1/1 [00:00<00:00, 16.71it/s]\n",
            "  0%|          | 0/6 [00:00<?, ?it/s]"
          ],
          "name": "stderr"
        },
        {
          "output_type": "stream",
          "text": [
            "\u001b[4m\u001b[93mEpoch: 14 \tTraining Loss: 0.022273 \tValidation Loss: 0.106580\u001b[0m\u001b[0m\n"
          ],
          "name": "stdout"
        },
        {
          "output_type": "stream",
          "text": [
            "100%|██████████| 6/6 [00:06<00:00,  1.13s/it]\n",
            "100%|██████████| 1/1 [00:00<00:00, 16.59it/s]\n",
            "  0%|          | 0/6 [00:00<?, ?it/s]"
          ],
          "name": "stderr"
        },
        {
          "output_type": "stream",
          "text": [
            "\u001b[4m\u001b[93mEpoch: 15 \tTraining Loss: 0.023192 \tValidation Loss: 0.094017\u001b[0m\u001b[0m\n"
          ],
          "name": "stdout"
        },
        {
          "output_type": "stream",
          "text": [
            "100%|██████████| 6/6 [00:06<00:00,  1.13s/it]\n",
            "100%|██████████| 1/1 [00:00<00:00, 16.66it/s]\n",
            "  0%|          | 0/6 [00:00<?, ?it/s]"
          ],
          "name": "stderr"
        },
        {
          "output_type": "stream",
          "text": [
            "\u001b[4m\u001b[93mEpoch: 16 \tTraining Loss: 0.022872 \tValidation Loss: 0.129378\u001b[0m\u001b[0m\n"
          ],
          "name": "stdout"
        },
        {
          "output_type": "stream",
          "text": [
            "100%|██████████| 6/6 [00:06<00:00,  1.13s/it]\n",
            "100%|██████████| 1/1 [00:00<00:00, 16.62it/s]\n",
            "  0%|          | 0/6 [00:00<?, ?it/s]"
          ],
          "name": "stderr"
        },
        {
          "output_type": "stream",
          "text": [
            "\u001b[4m\u001b[93mEpoch: 17 \tTraining Loss: 0.023742 \tValidation Loss: 0.078764\u001b[0m\u001b[0m\n"
          ],
          "name": "stdout"
        },
        {
          "output_type": "stream",
          "text": [
            "100%|██████████| 6/6 [00:06<00:00,  1.13s/it]\n",
            "100%|██████████| 1/1 [00:00<00:00, 16.64it/s]\n",
            "  0%|          | 0/6 [00:00<?, ?it/s]"
          ],
          "name": "stderr"
        },
        {
          "output_type": "stream",
          "text": [
            "\u001b[4m\u001b[93mEpoch: 18 \tTraining Loss: 0.021914 \tValidation Loss: 0.072374\u001b[0m\u001b[0m\n",
            "validation loss decreased from 0.078342 to 0.072374. Model is being saved to ./wavenet_model.pth. True\n"
          ],
          "name": "stdout"
        },
        {
          "output_type": "stream",
          "text": [
            "100%|██████████| 6/6 [00:06<00:00,  1.13s/it]\n",
            "100%|██████████| 1/1 [00:00<00:00, 16.74it/s]\n",
            "  0%|          | 0/6 [00:00<?, ?it/s]"
          ],
          "name": "stderr"
        },
        {
          "output_type": "stream",
          "text": [
            "\u001b[4m\u001b[93mEpoch: 19 \tTraining Loss: 0.021012 \tValidation Loss: 0.077596\u001b[0m\u001b[0m\n"
          ],
          "name": "stdout"
        },
        {
          "output_type": "stream",
          "text": [
            "100%|██████████| 6/6 [00:06<00:00,  1.13s/it]\n",
            "100%|██████████| 1/1 [00:00<00:00, 16.47it/s]"
          ],
          "name": "stderr"
        },
        {
          "output_type": "stream",
          "text": [
            "\u001b[4m\u001b[93mEpoch: 20 \tTraining Loss: 0.019295 \tValidation Loss: 0.098171\u001b[0m\u001b[0m\n"
          ],
          "name": "stdout"
        },
        {
          "output_type": "stream",
          "text": [
            "\n"
          ],
          "name": "stderr"
        }
      ]
    },
    {
      "cell_type": "markdown",
      "metadata": {
        "id": "ogHVKFFdwwra"
      },
      "source": [
        "Load and test"
      ]
    },
    {
      "cell_type": "code",
      "metadata": {
        "colab": {
          "base_uri": "https://localhost:8080/",
          "height": 317
        },
        "id": "AB4i3cuNpVx-",
        "outputId": "012c7a9a-5b70-4ccd-fb6b-2b4cc883c2de"
      },
      "source": [
        "model.load(checkpointdir=checkpointdir)\n",
        "\n",
        "model.predict(testdata=process.X_test, target=process.y_test)\n"
      ],
      "execution_count": null,
      "outputs": [
        {
          "output_type": "error",
          "ename": "TypeError",
          "evalue": "ignored",
          "traceback": [
            "\u001b[0;31m---------------------------------------------------------------------------\u001b[0m",
            "\u001b[0;31mTypeError\u001b[0m                                 Traceback (most recent call last)",
            "\u001b[0;32m<ipython-input-9-20bb03f284db>\u001b[0m in \u001b[0;36m<module>\u001b[0;34m()\u001b[0m\n\u001b[1;32m      1\u001b[0m \u001b[0mmodel\u001b[0m\u001b[0;34m.\u001b[0m\u001b[0mload\u001b[0m\u001b[0;34m(\u001b[0m\u001b[0mcheckpointdir\u001b[0m\u001b[0;34m=\u001b[0m\u001b[0mcheckpointdir\u001b[0m\u001b[0;34m)\u001b[0m\u001b[0;34m\u001b[0m\u001b[0;34m\u001b[0m\u001b[0m\n\u001b[1;32m      2\u001b[0m \u001b[0;34m\u001b[0m\u001b[0m\n\u001b[0;32m----> 3\u001b[0;31m \u001b[0mmodel\u001b[0m\u001b[0;34m.\u001b[0m\u001b[0mpredict\u001b[0m\u001b[0;34m(\u001b[0m\u001b[0mtestdata\u001b[0m\u001b[0;34m=\u001b[0m\u001b[0mprocess\u001b[0m\u001b[0;34m.\u001b[0m\u001b[0mX_test\u001b[0m\u001b[0;34m,\u001b[0m \u001b[0mtarget\u001b[0m\u001b[0;34m=\u001b[0m\u001b[0mprocess\u001b[0m\u001b[0;34m.\u001b[0m\u001b[0my_test\u001b[0m\u001b[0;34m)\u001b[0m\u001b[0;34m\u001b[0m\u001b[0;34m\u001b[0m\u001b[0m\n\u001b[0m",
            "\u001b[0;32m/content/drive/My Drive/herremans_data/src/wavenetmodel.py\u001b[0m in \u001b[0;36mpredict\u001b[0;34m(self, testdata, target)\u001b[0m\n\u001b[1;32m    147\u001b[0m         \u001b[0mself\u001b[0m\u001b[0;34m.\u001b[0m\u001b[0mmodel\u001b[0m\u001b[0;34m.\u001b[0m\u001b[0meval\u001b[0m\u001b[0;34m(\u001b[0m\u001b[0;34m)\u001b[0m\u001b[0;34m\u001b[0m\u001b[0;34m\u001b[0m\u001b[0m\n\u001b[1;32m    148\u001b[0m         \u001b[0mtestdata\u001b[0m \u001b[0;34m=\u001b[0m \u001b[0mtestdata\u001b[0m\u001b[0;34m.\u001b[0m\u001b[0mto\u001b[0m\u001b[0;34m(\u001b[0m\u001b[0mself\u001b[0m\u001b[0;34m.\u001b[0m\u001b[0mdevice\u001b[0m\u001b[0;34m)\u001b[0m\u001b[0;34m\u001b[0m\u001b[0;34m\u001b[0m\u001b[0m\n\u001b[0;32m--> 149\u001b[0;31m         \u001b[0mpredictions\u001b[0m \u001b[0;34m=\u001b[0m \u001b[0mself\u001b[0m\u001b[0;34m.\u001b[0m\u001b[0mmodel\u001b[0m\u001b[0;34m(\u001b[0m\u001b[0mtestdata\u001b[0m\u001b[0;34m.\u001b[0m\u001b[0mfloat\u001b[0m\u001b[0;34m(\u001b[0m\u001b[0;34m)\u001b[0m\u001b[0;34m)\u001b[0m\u001b[0;34m.\u001b[0m\u001b[0mdetach\u001b[0m\u001b[0;34m(\u001b[0m\u001b[0;34m)\u001b[0m\u001b[0;34m.\u001b[0m\u001b[0mnumpy\u001b[0m\u001b[0;34m(\u001b[0m\u001b[0;34m)\u001b[0m\u001b[0;34m\u001b[0m\u001b[0;34m\u001b[0m\u001b[0m\n\u001b[0m\u001b[1;32m    150\u001b[0m         \u001b[0midxs\u001b[0m \u001b[0;34m=\u001b[0m \u001b[0mnp\u001b[0m\u001b[0;34m.\u001b[0m\u001b[0munique\u001b[0m\u001b[0;34m(\u001b[0m\u001b[0mnp\u001b[0m\u001b[0;34m.\u001b[0m\u001b[0mwhere\u001b[0m\u001b[0;34m(\u001b[0m\u001b[0mnp\u001b[0m\u001b[0;34m.\u001b[0m\u001b[0misnan\u001b[0m\u001b[0;34m(\u001b[0m\u001b[0mpredictions\u001b[0m\u001b[0;34m)\u001b[0m\u001b[0;34m)\u001b[0m\u001b[0;34m[\u001b[0m\u001b[0;36m0\u001b[0m\u001b[0;34m]\u001b[0m\u001b[0;34m)\u001b[0m\u001b[0;34m.\u001b[0m\u001b[0mtolist\u001b[0m\u001b[0;34m(\u001b[0m\u001b[0;34m)\u001b[0m\u001b[0;34m\u001b[0m\u001b[0;34m\u001b[0m\u001b[0m\n\u001b[1;32m    151\u001b[0m         \u001b[0mpreds\u001b[0m \u001b[0;34m=\u001b[0m \u001b[0mnp\u001b[0m\u001b[0;34m.\u001b[0m\u001b[0mdelete\u001b[0m\u001b[0;34m(\u001b[0m\u001b[0mpredictions\u001b[0m\u001b[0;34m.\u001b[0m\u001b[0mcopy\u001b[0m\u001b[0;34m(\u001b[0m\u001b[0;34m)\u001b[0m\u001b[0;34m,\u001b[0m \u001b[0midxs\u001b[0m\u001b[0;34m,\u001b[0m \u001b[0maxis\u001b[0m\u001b[0;34m=\u001b[0m\u001b[0;36m0\u001b[0m\u001b[0;34m)\u001b[0m\u001b[0;34m\u001b[0m\u001b[0;34m\u001b[0m\u001b[0m\n",
            "\u001b[0;31mTypeError\u001b[0m: can't convert cuda:0 device type tensor to numpy. Use Tensor.cpu() to copy the tensor to host memory first."
          ]
        }
      ]
    },
    {
      "cell_type": "code",
      "metadata": {
        "id": "6xzg2z5i7VyR"
      },
      "source": [
        "\n"
      ],
      "execution_count": null,
      "outputs": []
    }
  ]
}