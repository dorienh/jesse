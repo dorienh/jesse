{
 "cells": [
  {
   "cell_type": "code",
   "execution_count": 9,
   "metadata": {},
   "outputs": [],
   "source": [
    "import pandas as pd\n",
    "import os\n",
    "from glob import glob"
   ]
  },
  {
   "cell_type": "code",
   "execution_count": 10,
   "metadata": {},
   "outputs": [],
   "source": [
    "directory = \"../dataset/daily/\""
   ]
  },
  {
   "cell_type": "code",
   "execution_count": 11,
   "metadata": {},
   "outputs": [],
   "source": [
    "files = glob(f\"{directory}/*.csv\")\n",
    "dfs = [pd.read_csv(file) for file in files]\n",
    "cryptos = [os.path.split(file)[1].split(\"_\")[1] for file in files]"
   ]
  },
  {
   "cell_type": "code",
   "execution_count": 16,
   "metadata": {},
   "outputs": [],
   "source": [
    "total = 0\n",
    "for df in dfs:\n",
    "    total += df.shape[0]"
   ]
  },
  {
   "cell_type": "code",
   "execution_count": 17,
   "metadata": {},
   "outputs": [
    {
     "data": {
      "text/plain": [
       "37017"
      ]
     },
     "execution_count": 17,
     "metadata": {},
     "output_type": "execute_result"
    }
   ],
   "source": [
    "total "
   ]
  },
  {
   "cell_type": "code",
   "execution_count": 2,
   "metadata": {},
   "outputs": [],
   "source": [
    "from datapreprocess import Preprocess\n",
    "from wavenetmodel import WaveNet_n_to_1\n",
    "from lstmmodel import LstmModel_n_to_1\n",
    "from loss import FocalLoss\n",
    "from utils import custom_print\n",
    "\n",
    "import torch\n",
    "\n",
    "y_cols = [\n",
    "    \"Top_p15_a4\",\n",
    "    \"Btm_p15_a4\",\n",
    "    \"Buy_p15_a4\",\n",
    "    \"Sell_p15_a4\",\n",
    "    \"Top_p40_a1\",\n",
    "    \"Btm_p40_a1\",\n",
    "    \"Buy_p40_a1\",\n",
    "    \"Sell_p40_a1\",\n",
    "    \"ODR\",\n",
    "    \"Top\",\n",
    "    \"Btm\",\n",
    "    \"Trend\",\n",
    "    \"WM\",\n",
    "    \"last_pivot\",\n",
    "]\n",
    "\n",
    "cols_to_pred = [\"Buy_p40_a1\"]\n",
    "\n",
    "datadir = \"../dataset/daily/\"\n",
    "last_x_days = 40\n",
    "batch_size = 500\n",
    "model_type = \"Wavenet\" # \"Lstm\" or \"Wavenet\"\n",
    "\n",
    "process = Preprocess(datadir, y_cols, cols_to_pred,last_x_days=last_x_days)"
   ]
  },
  {
   "cell_type": "code",
   "execution_count": 3,
   "metadata": {},
   "outputs": [
    {
     "name": "stdout",
     "output_type": "stream",
     "text": [
      "\u001b[1m\u001b[94mCollecting Files\u001b[0m\u001b[0m\n",
      "\u001b[1m\u001b[94mFilling Nan Values ✓\u001b[0m\u001b[0m\n",
      "\u001b[1m\u001b[94mImputing Nan Values ✓\u001b[0m\u001b[0m\n",
      "\u001b[1m\u001b[94mSplit Dataset into Train,Val,Test Set ✓\u001b[0m\u001b[0m\n",
      "\u001b[1m\u001b[94mMin Max Normalisation on Dataset ✓\u001b[0m\u001b[0m\n",
      "X_train Shape (24728, 40, 192), Y_train Shape (24728, 40, 1)\n",
      "X_test Shape (6340, 40, 192), Y_test Shape(6340, 40, 1)\n"
     ]
    },
    {
     "ename": "ValueError",
     "evalue": "too many values to unpack (expected 2)",
     "output_type": "error",
     "traceback": [
      "\u001b[1;31m-----------------------------------------------------\u001b[0m",
      "\u001b[1;31mValueError\u001b[0m          Traceback (most recent call last)",
      "\u001b[1;32m<ipython-input-3-f2f567c7bd14>\u001b[0m in \u001b[0;36m<module>\u001b[1;34m\u001b[0m\n\u001b[1;32m----> 1\u001b[1;33m \u001b[0mX_train\u001b[0m\u001b[1;33m,\u001b[0m\u001b[0my_train\u001b[0m \u001b[1;33m=\u001b[0m \u001b[0mprocess\u001b[0m\u001b[1;33m.\u001b[0m\u001b[0mprocess\u001b[0m\u001b[1;33m(\u001b[0m\u001b[1;33m)\u001b[0m\u001b[1;33m\u001b[0m\u001b[1;33m\u001b[0m\u001b[0m\n\u001b[0m",
      "\u001b[1;31mValueError\u001b[0m: too many values to unpack (expected 2)"
     ]
    }
   ],
   "source": []
  },
  {
   "cell_type": "code",
   "execution_count": 1,
   "metadata": {},
   "outputs": [],
   "source": [
    "import numpy as np"
   ]
  },
  {
   "cell_type": "code",
   "execution_count": 88,
   "metadata": {},
   "outputs": [],
   "source": [
    "def _convert_to_timeseries(self,X,Y, clearing_time_index, sub_window_size,\n",
    "                         stride_size):\n",
    "    \n",
    "        \n",
    "        if sub_window_size > X.shape[0]:\n",
    "            repeat = sub_window_size - X.shape[0] + 1\n",
    "            X = np.row_stack((X,np.tile(X[-1],(repeat,1))))\n",
    "            Y = np.row_stack((Y,np.tile(Y[-1],(repeat,1))))\n",
    "                \n",
    "        max_time = X.shape[0] - sub_window_size \n",
    "        start = clearing_time_index + 1 - sub_window_size + 1\n",
    "\n",
    "        sub_windows = (\n",
    "            start + \n",
    "            np.expand_dims(np.arange(sub_window_size), 0) +\n",
    "            np.expand_dims(np.arange(max_time + 1, step=stride_size), 0).T\n",
    "        )        \n",
    "        return X[sub_windows][:-1],Y[sub_windows][1:]"
   ]
  },
  {
   "cell_type": "code",
   "execution_count": 103,
   "metadata": {},
   "outputs": [],
   "source": [
    "x,y = X_train[0].values,y_train[0].values"
   ]
  },
  {
   "cell_type": "code",
   "execution_count": 101,
   "metadata": {},
   "outputs": [],
   "source": [
    "a,b = convert_to_timeseries(x,y,0,40,1)"
   ]
  },
  {
   "cell_type": "code",
   "execution_count": 102,
   "metadata": {},
   "outputs": [
    {
     "data": {
      "text/plain": [
       "(2, 40, 192)"
      ]
     },
     "execution_count": 102,
     "metadata": {},
     "output_type": "execute_result"
    }
   ],
   "source": [
    "a.shape"
   ]
  },
  {
   "cell_type": "code",
   "execution_count": 104,
   "metadata": {},
   "outputs": [],
   "source": [
    "c,d = convert_to_timeseries(x,y,0,40,1)"
   ]
  },
  {
   "cell_type": "code",
   "execution_count": 105,
   "metadata": {},
   "outputs": [
    {
     "data": {
      "text/plain": [
       "(675, 40, 192)"
      ]
     },
     "execution_count": 105,
     "metadata": {},
     "output_type": "execute_result"
    }
   ],
   "source": [
    "c.shape"
   ]
  }
 ],
 "metadata": {
  "kernelspec": {
   "display_name": "Python 3",
   "language": "python",
   "name": "python3"
  },
  "language_info": {
   "codemirror_mode": {
    "name": "ipython",
    "version": 3
   },
   "file_extension": ".py",
   "mimetype": "text/x-python",
   "name": "python",
   "nbconvert_exporter": "python",
   "pygments_lexer": "ipython3",
   "version": "3.6.8"
  }
 },
 "nbformat": 4,
 "nbformat_minor": 4
}
